   
{
    "cells": [
        {
            "cell_type": "markdown",
            "metadata": {
                "id": "d67d193b3b84db144740709cab1f8771"
            },
            "source": [
                "#Welcome to mlOS Lab"
            ]
        },
        {
            "cell_type": "code",
            "execution_count": 0,
            "id": "dated-prompt",
            "metadata": {},
            "outputs": [],
            "source": [
                "# Your python code here",
                ""
            ]
        }
    ],
    "metadata": {
        "kernelspec": {
            "display_name": "Python 3",
            "language": "python",
            "name": "python3"
        },
        "language_info": {
            "codemirror_mode": {
                "name": "ipython",
                "version": 3
            },
            "file_extension": ".py",
            "mimetype": "text/x-python",
            "name": "python",
            "nbconvert_exporter": "python",
            "pygments_lexer": "ipython3",
            "version": "3.6.8"
        }
    },
    "nbformat": 4,
    "nbformat_minor": 5
}
                        